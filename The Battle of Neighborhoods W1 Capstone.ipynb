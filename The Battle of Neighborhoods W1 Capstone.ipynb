{
    "cells": [
        {
            "metadata": {
                "collapsed": true
            },
            "cell_type": "markdown",
            "source": "# Introduction"
        },
        {
            "metadata": {},
            "cell_type": "markdown",
            "source": "As the global pandemic is cooling off, people are ready to go out to see the world and tourism is looking for have activities back. As a resident, I am looking forward to see the revival of tourism in Tennessee."
        },
        {
            "metadata": {},
            "cell_type": "markdown",
            "source": "Tourism brings in visitors, which bring in revenues to restaurants, hotels, and other consumptions. It also produces little pollutions compared to other industries like manufacturing. Therefore, promoting tourism is always a great way to generate revenue for any state. In particular when people are eager to travel now, it's time to look at how to get a slice of that cake as small business owners who are interested in opening a restaurant!"
        },
        {
            "metadata": {},
            "cell_type": "markdown",
            "source": "# Business Problem"
        },
        {
            "metadata": {},
            "cell_type": "markdown",
            "source": "All the benefits of tourism brings economic growth to the state and its people. \n\nThe objective of this project is to analyze places to tour in TN and try to recommend the best location where they can open a restaurant or lodging to make the best use of the opportunity."
        },
        {
            "metadata": {},
            "cell_type": "markdown",
            "source": "# Data"
        },
        {
            "metadata": {},
            "cell_type": "markdown",
            "source": "To tackle this case, the wikipedia page https://en.wikipedia.org/wiki/List_of_municipalities_in_Tennessee will be utilized. Various of python packages will be used to collect, transform the data to provide meaningful recommendations to the future samll business owners."
        }
    ],
    "metadata": {
        "kernelspec": {
            "name": "python3",
            "display_name": "Python 3.7",
            "language": "python"
        },
        "language_info": {
            "name": "python",
            "version": "3.7.10",
            "mimetype": "text/x-python",
            "codemirror_mode": {
                "name": "ipython",
                "version": 3
            },
            "pygments_lexer": "ipython3",
            "nbconvert_exporter": "python",
            "file_extension": ".py"
        }
    },
    "nbformat": 4,
    "nbformat_minor": 1
}